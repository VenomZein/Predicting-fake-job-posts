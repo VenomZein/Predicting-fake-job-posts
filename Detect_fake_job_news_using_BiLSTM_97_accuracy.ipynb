{
  "metadata": {
    "kernelspec": {
      "language": "python",
      "display_name": "Python 3",
      "name": "python3"
    },
    "language_info": {
      "name": "python",
      "version": "3.10.12",
      "mimetype": "text/x-python",
      "codemirror_mode": {
        "name": "ipython",
        "version": 3
      },
      "pygments_lexer": "ipython3",
      "nbconvert_exporter": "python",
      "file_extension": ".py"
    },
    "kaggle": {
      "accelerator": "none",
      "dataSources": [
        {
          "sourceId": 976879,
          "sourceType": "datasetVersion",
          "datasetId": 533871
        }
      ],
      "dockerImageVersionId": 30587,
      "isInternetEnabled": false,
      "language": "python",
      "sourceType": "notebook",
      "isGpuEnabled": false
    },
    "colab": {
      "name": "Detect fake job news using BiLSTM 97 % accuracy",
      "provenance": []
    }
  },
  "nbformat_minor": 0,
  "nbformat": 4,
  "cells": [
    {
      "source": [
        "\n",
        "# IMPORTANT: RUN THIS CELL IN ORDER TO IMPORT YOUR KAGGLE DATA SOURCES\n",
        "# TO THE CORRECT LOCATION IN YOUR NOTEBOOK,\n",
        "# THEN FEEL FREE TO DELETE THIS CELL.\n",
        "\n",
        "import os\n",
        "import sys\n",
        "from tempfile import NamedTemporaryFile\n",
        "from urllib.request import urlopen\n",
        "from urllib.parse import unquote, urlparse\n",
        "from urllib.error import HTTPError\n",
        "from zipfile import ZipFile\n",
        "import tarfile\n",
        "import shutil\n",
        "\n",
        "CHUNK_SIZE = 40960\n",
        "DATA_SOURCE_MAPPING = 'real-or-fake-fake-jobposting-prediction:https%3A%2F%2Fstorage.googleapis.com%2Fkaggle-data-sets%2F533871%2F976879%2Fbundle%2Farchive.zip%3FX-Goog-Algorithm%3DGOOG4-RSA-SHA256%26X-Goog-Credential%3Dgcp-kaggle-com%2540kaggle-161607.iam.gserviceaccount.com%252F20240313%252Fauto%252Fstorage%252Fgoog4_request%26X-Goog-Date%3D20240313T190432Z%26X-Goog-Expires%3D259200%26X-Goog-SignedHeaders%3Dhost%26X-Goog-Signature%3Db8c076ba29b87965728e62427df498b6be578fd6f58a33f42ec3aedeec3e117c945e28f9403296e14f2a83f1a1cb35282faa4fd9c171c9931c5f6e518cd9ebc8e7b03f1419aad6d4e1091ac478df2abbc7bee654a3f7e0afb53f4513ed23e91c111199491ac8e3355abdafe6277f1f916dec45e4d37e2f2b0ee90bf9c9cf429946b0781c63148156bf29a31d0a633ae37eff923f81836ed4f8ed0abdf47633fcc2c7785317771e8cacc1a7c04437d580297e1aa2cb1ce4b5b0fa4c96944c45a906023b478ab45a977d673fdfae16232b14693b49580b6d36d88d46dbbcac653a8f7c5c251822d6b3fd9b27a1e3e139ee1c060c7bafee675958d05a4ac3f57d42'\n",
        "\n",
        "KAGGLE_INPUT_PATH='/kaggle/input'\n",
        "KAGGLE_WORKING_PATH='/kaggle/working'\n",
        "KAGGLE_SYMLINK='kaggle'\n",
        "\n",
        "!umount /kaggle/input/ 2> /dev/null\n",
        "shutil.rmtree('/kaggle/input', ignore_errors=True)\n",
        "os.makedirs(KAGGLE_INPUT_PATH, 0o777, exist_ok=True)\n",
        "os.makedirs(KAGGLE_WORKING_PATH, 0o777, exist_ok=True)\n",
        "\n",
        "try:\n",
        "  os.symlink(KAGGLE_INPUT_PATH, os.path.join(\"..\", 'input'), target_is_directory=True)\n",
        "except FileExistsError:\n",
        "  pass\n",
        "try:\n",
        "  os.symlink(KAGGLE_WORKING_PATH, os.path.join(\"..\", 'working'), target_is_directory=True)\n",
        "except FileExistsError:\n",
        "  pass\n",
        "\n",
        "for data_source_mapping in DATA_SOURCE_MAPPING.split(','):\n",
        "    directory, download_url_encoded = data_source_mapping.split(':')\n",
        "    download_url = unquote(download_url_encoded)\n",
        "    filename = urlparse(download_url).path\n",
        "    destination_path = os.path.join(KAGGLE_INPUT_PATH, directory)\n",
        "    try:\n",
        "        with urlopen(download_url) as fileres, NamedTemporaryFile() as tfile:\n",
        "            total_length = fileres.headers['content-length']\n",
        "            print(f'Downloading {directory}, {total_length} bytes compressed')\n",
        "            dl = 0\n",
        "            data = fileres.read(CHUNK_SIZE)\n",
        "            while len(data) > 0:\n",
        "                dl += len(data)\n",
        "                tfile.write(data)\n",
        "                done = int(50 * dl / int(total_length))\n",
        "                sys.stdout.write(f\"\\r[{'=' * done}{' ' * (50-done)}] {dl} bytes downloaded\")\n",
        "                sys.stdout.flush()\n",
        "                data = fileres.read(CHUNK_SIZE)\n",
        "            if filename.endswith('.zip'):\n",
        "              with ZipFile(tfile) as zfile:\n",
        "                zfile.extractall(destination_path)\n",
        "            else:\n",
        "              with tarfile.open(tfile.name) as tarfile:\n",
        "                tarfile.extractall(destination_path)\n",
        "            print(f'\\nDownloaded and uncompressed: {directory}')\n",
        "    except HTTPError as e:\n",
        "        print(f'Failed to load (likely expired) {download_url} to path {destination_path}')\n",
        "        continue\n",
        "    except OSError as e:\n",
        "        print(f'Failed to load {download_url} to path {destination_path}')\n",
        "        continue\n",
        "\n",
        "print('Data source import complete.')\n"
      ],
      "metadata": {
        "id": "Zb0UI-_sM8m_"
      },
      "cell_type": "code",
      "outputs": [],
      "execution_count": null
    },
    {
      "cell_type": "code",
      "source": [
        "# This Python 3 environment comes with many helpful analytics libraries installed\n",
        "# It is defined by the kaggle/python Docker image: https://github.com/kaggle/docker-python\n",
        "# For example, here's several helpful packages to load\n",
        "\n",
        "import numpy as np # linear algebra\n",
        "import pandas as pd # data processing, CSV file I/O (e.g. pd.read_csv)\n",
        "\n",
        "# Input data files are available in the read-only \"../input/\" directory\n",
        "# For example, running this (by clicking run or pressing Shift+Enter) will list all files under the input directory\n",
        "\n",
        "import os\n",
        "for dirname, _, filenames in os.walk('/kaggle/input'):\n",
        "    for filename in filenames:\n",
        "        print(os.path.join(dirname, filename))\n",
        "\n",
        "# You can write up to 20GB to the current directory (/kaggle/working/) that gets preserved as output when you create a version using \"Save & Run All\"\n",
        "# You can also write temporary files to /kaggle/temp/, but they won't be saved outside of the current session"
      ],
      "metadata": {
        "_uuid": "8f2839f25d086af736a60e9eeb907d3b93b6e0e5",
        "_cell_guid": "b1076dfc-b9ad-4769-8c92-a6c4dae69d19",
        "execution": {
          "iopub.status.busy": "2023-12-07T03:26:08.123517Z",
          "iopub.execute_input": "2023-12-07T03:26:08.1239Z",
          "iopub.status.idle": "2023-12-07T03:26:08.138797Z",
          "shell.execute_reply.started": "2023-12-07T03:26:08.12387Z",
          "shell.execute_reply": "2023-12-07T03:26:08.137286Z"
        },
        "trusted": true,
        "id": "hNEyKD49M8nO"
      },
      "execution_count": null,
      "outputs": []
    },
    {
      "cell_type": "code",
      "source": [
        "#Load the dataset\n",
        "train_df = pd.read_csv('/kaggle/input/real-or-fake-fake-jobposting-prediction/fake_job_postings.csv')"
      ],
      "metadata": {
        "execution": {
          "iopub.status.busy": "2023-12-07T03:26:08.141487Z",
          "iopub.execute_input": "2023-12-07T03:26:08.142219Z",
          "iopub.status.idle": "2023-12-07T03:26:08.675407Z",
          "shell.execute_reply.started": "2023-12-07T03:26:08.14218Z",
          "shell.execute_reply": "2023-12-07T03:26:08.673985Z"
        },
        "trusted": true,
        "id": "Z91g1gX5M8nT"
      },
      "execution_count": null,
      "outputs": []
    },
    {
      "cell_type": "code",
      "source": [
        "#Explore first five rows\n",
        "train_df.head()"
      ],
      "metadata": {
        "execution": {
          "iopub.status.busy": "2023-12-07T03:26:08.677377Z",
          "iopub.execute_input": "2023-12-07T03:26:08.677724Z",
          "iopub.status.idle": "2023-12-07T03:26:08.696598Z",
          "shell.execute_reply.started": "2023-12-07T03:26:08.677696Z",
          "shell.execute_reply": "2023-12-07T03:26:08.695167Z"
        },
        "trusted": true,
        "id": "tLBJ4Ui8M8nW"
      },
      "execution_count": null,
      "outputs": []
    },
    {
      "cell_type": "code",
      "source": [
        "#Taking useful columns only\n",
        "df = train_df[['description','fraudulent']]"
      ],
      "metadata": {
        "execution": {
          "iopub.status.busy": "2023-12-07T03:26:08.698088Z",
          "iopub.execute_input": "2023-12-07T03:26:08.69856Z",
          "iopub.status.idle": "2023-12-07T03:26:08.705933Z",
          "shell.execute_reply.started": "2023-12-07T03:26:08.698517Z",
          "shell.execute_reply": "2023-12-07T03:26:08.705167Z"
        },
        "trusted": true,
        "id": "HsInqslLM8nX"
      },
      "execution_count": null,
      "outputs": []
    },
    {
      "cell_type": "code",
      "source": [
        "#Checking new dataframe\n",
        "df.head()"
      ],
      "metadata": {
        "execution": {
          "iopub.status.busy": "2023-12-07T03:26:08.707606Z",
          "iopub.execute_input": "2023-12-07T03:26:08.708123Z",
          "iopub.status.idle": "2023-12-07T03:26:08.724119Z",
          "shell.execute_reply.started": "2023-12-07T03:26:08.708094Z",
          "shell.execute_reply": "2023-12-07T03:26:08.722707Z"
        },
        "trusted": true,
        "id": "bsAao6pjM8nX"
      },
      "execution_count": null,
      "outputs": []
    },
    {
      "cell_type": "markdown",
      "source": [
        "# **Handle null values**"
      ],
      "metadata": {
        "id": "a4L0P50KM8nZ"
      }
    },
    {
      "cell_type": "code",
      "source": [
        "#handle null values\n",
        "df.isna().sum()"
      ],
      "metadata": {
        "execution": {
          "iopub.status.busy": "2023-12-07T03:26:08.725772Z",
          "iopub.execute_input": "2023-12-07T03:26:08.726177Z",
          "iopub.status.idle": "2023-12-07T03:26:08.74078Z",
          "shell.execute_reply.started": "2023-12-07T03:26:08.726149Z",
          "shell.execute_reply": "2023-12-07T03:26:08.739409Z"
        },
        "trusted": true,
        "id": "e3BBHGMQM8nc"
      },
      "execution_count": null,
      "outputs": []
    },
    {
      "cell_type": "code",
      "source": [
        "#drop null values\n",
        "df.dropna(inplace=True,axis=0)"
      ],
      "metadata": {
        "execution": {
          "iopub.status.busy": "2023-12-07T03:26:08.742178Z",
          "iopub.execute_input": "2023-12-07T03:26:08.742911Z",
          "iopub.status.idle": "2023-12-07T03:26:08.756351Z",
          "shell.execute_reply.started": "2023-12-07T03:26:08.742879Z",
          "shell.execute_reply": "2023-12-07T03:26:08.755352Z"
        },
        "trusted": true,
        "id": "VvM1XvhtM8nd"
      },
      "execution_count": null,
      "outputs": []
    },
    {
      "cell_type": "code",
      "source": [
        "df.shape"
      ],
      "metadata": {
        "execution": {
          "iopub.status.busy": "2023-12-07T03:26:08.758283Z",
          "iopub.execute_input": "2023-12-07T03:26:08.758635Z",
          "iopub.status.idle": "2023-12-07T03:26:08.766567Z",
          "shell.execute_reply.started": "2023-12-07T03:26:08.758594Z",
          "shell.execute_reply": "2023-12-07T03:26:08.765362Z"
        },
        "trusted": true,
        "id": "1SPBN66zM8ne"
      },
      "execution_count": null,
      "outputs": []
    },
    {
      "cell_type": "markdown",
      "source": [
        "# **Distribution of the categories**"
      ],
      "metadata": {
        "id": "t_jCkF1aM8nf"
      }
    },
    {
      "cell_type": "code",
      "source": [
        "df['fraudulent'].value_counts()"
      ],
      "metadata": {
        "execution": {
          "iopub.status.busy": "2023-12-07T03:26:08.767887Z",
          "iopub.execute_input": "2023-12-07T03:26:08.768937Z",
          "iopub.status.idle": "2023-12-07T03:26:08.780014Z",
          "shell.execute_reply.started": "2023-12-07T03:26:08.7689Z",
          "shell.execute_reply": "2023-12-07T03:26:08.778904Z"
        },
        "trusted": true,
        "id": "NEmSRN_7M8ng"
      },
      "execution_count": null,
      "outputs": []
    },
    {
      "cell_type": "code",
      "source": [
        "import matplotlib.pyplot as plt\n",
        "import seaborn as sns\n",
        "sns.countplot(data = df,x='fraudulent')\n",
        "plt.title('Category distribution')\n",
        "plt.show()"
      ],
      "metadata": {
        "execution": {
          "iopub.status.busy": "2023-12-07T03:41:09.348347Z",
          "iopub.execute_input": "2023-12-07T03:41:09.348692Z",
          "iopub.status.idle": "2023-12-07T03:41:09.529111Z",
          "shell.execute_reply.started": "2023-12-07T03:41:09.348664Z",
          "shell.execute_reply": "2023-12-07T03:41:09.528127Z"
        },
        "trusted": true,
        "id": "MdViB49FM8nh"
      },
      "execution_count": null,
      "outputs": []
    },
    {
      "cell_type": "markdown",
      "source": [
        "# **Text preprocessing**"
      ],
      "metadata": {
        "id": "Bc3wrgscM8nh"
      }
    },
    {
      "cell_type": "code",
      "source": [
        "import re\n",
        "def process_text(text):\n",
        "    news = re.sub(r'[^a-zA-Z\\s]','',text)\n",
        "    lo_news = news.lower()\n",
        "    return lo_news\n",
        ""
      ],
      "metadata": {
        "execution": {
          "iopub.status.busy": "2023-12-07T03:26:08.784112Z",
          "iopub.execute_input": "2023-12-07T03:26:08.784775Z",
          "iopub.status.idle": "2023-12-07T03:26:08.791153Z",
          "shell.execute_reply.started": "2023-12-07T03:26:08.784725Z",
          "shell.execute_reply": "2023-12-07T03:26:08.789848Z"
        },
        "trusted": true,
        "id": "m3ZVOFFzM8ni"
      },
      "execution_count": null,
      "outputs": []
    },
    {
      "cell_type": "code",
      "source": [
        "df['description'] = df['description'].apply(process_text)"
      ],
      "metadata": {
        "trusted": true,
        "id": "LzY8rRM6M8ni"
      },
      "execution_count": null,
      "outputs": []
    },
    {
      "cell_type": "markdown",
      "source": [
        "# **vectorization,model building**"
      ],
      "metadata": {
        "id": "80CbQMFBM8nj"
      }
    },
    {
      "cell_type": "code",
      "source": [
        "import tensorflow as tf\n",
        "from tensorflow.keras.preprocessing.text import Tokenizer\n",
        "from tensorflow.keras.utils import pad_sequences\n",
        "from tensorflow.keras.layers import LSTM,GRU,Bidirectional,Dense,Embedding\n",
        "from tensorflow.keras import Sequential"
      ],
      "metadata": {
        "execution": {
          "iopub.status.busy": "2023-12-07T03:26:09.24801Z",
          "iopub.execute_input": "2023-12-07T03:26:09.248381Z",
          "iopub.status.idle": "2023-12-07T03:26:09.254578Z",
          "shell.execute_reply.started": "2023-12-07T03:26:09.248347Z",
          "shell.execute_reply": "2023-12-07T03:26:09.253029Z"
        },
        "trusted": true,
        "id": "1f89kyQAM8nj"
      },
      "execution_count": null,
      "outputs": []
    },
    {
      "cell_type": "code",
      "source": [
        "# passing object\n",
        "tk = Tokenizer()"
      ],
      "metadata": {
        "execution": {
          "iopub.status.busy": "2023-12-07T03:26:09.25672Z",
          "iopub.execute_input": "2023-12-07T03:26:09.257129Z",
          "iopub.status.idle": "2023-12-07T03:26:09.267583Z",
          "shell.execute_reply.started": "2023-12-07T03:26:09.257095Z",
          "shell.execute_reply": "2023-12-07T03:26:09.26565Z"
        },
        "trusted": true,
        "id": "tuzyhGUKM8nk"
      },
      "execution_count": null,
      "outputs": []
    },
    {
      "cell_type": "code",
      "source": [
        "#fit the text into the tokenizer\n",
        "tk.fit_on_texts(df['description'])"
      ],
      "metadata": {
        "execution": {
          "iopub.status.busy": "2023-12-07T03:26:09.268981Z",
          "iopub.execute_input": "2023-12-07T03:26:09.269482Z",
          "iopub.status.idle": "2023-12-07T03:26:13.199969Z",
          "shell.execute_reply.started": "2023-12-07T03:26:09.269443Z",
          "shell.execute_reply": "2023-12-07T03:26:13.198741Z"
        },
        "trusted": true,
        "id": "51LvNQVyM8nm"
      },
      "execution_count": null,
      "outputs": []
    },
    {
      "cell_type": "code",
      "source": [
        "#integer encoding\n",
        "seq = tk.texts_to_sequences(df['description'])"
      ],
      "metadata": {
        "execution": {
          "iopub.status.busy": "2023-12-07T03:26:13.201885Z",
          "iopub.execute_input": "2023-12-07T03:26:13.202419Z",
          "iopub.status.idle": "2023-12-07T03:26:16.061573Z",
          "shell.execute_reply.started": "2023-12-07T03:26:13.202359Z",
          "shell.execute_reply": "2023-12-07T03:26:16.060339Z"
        },
        "trusted": true,
        "id": "JBpeAmJYM8nn"
      },
      "execution_count": null,
      "outputs": []
    },
    {
      "cell_type": "code",
      "source": [
        "#padded the vector to equalize the dimenstion\n",
        "vec = pad_sequences(seq,padding='post',maxlen=50)"
      ],
      "metadata": {
        "execution": {
          "iopub.status.busy": "2023-12-07T03:26:16.0629Z",
          "iopub.execute_input": "2023-12-07T03:26:16.063278Z",
          "iopub.status.idle": "2023-12-07T03:26:16.141003Z",
          "shell.execute_reply.started": "2023-12-07T03:26:16.063245Z",
          "shell.execute_reply": "2023-12-07T03:26:16.139592Z"
        },
        "trusted": true,
        "id": "LwBPGQkMM8nn"
      },
      "execution_count": null,
      "outputs": []
    },
    {
      "cell_type": "code",
      "source": [
        "# split features and target variable\n",
        "import numpy as np\n",
        "x = np.array(vec)\n",
        "y = np.array(df['fraudulent'])"
      ],
      "metadata": {
        "execution": {
          "iopub.status.busy": "2023-12-07T03:26:16.142326Z",
          "iopub.execute_input": "2023-12-07T03:26:16.14269Z",
          "iopub.status.idle": "2023-12-07T03:26:16.148514Z",
          "shell.execute_reply.started": "2023-12-07T03:26:16.142656Z",
          "shell.execute_reply": "2023-12-07T03:26:16.147503Z"
        },
        "trusted": true,
        "id": "1t52KgCSM8nn"
      },
      "execution_count": null,
      "outputs": []
    },
    {
      "cell_type": "code",
      "source": [
        "#split training and tesing set\n",
        "\n",
        "from sklearn.model_selection import train_test_split\n",
        "x_train,x_test,y_train,y_test = train_test_split(x,y,test_size=0.15,random_state=32)"
      ],
      "metadata": {
        "execution": {
          "iopub.status.busy": "2023-12-07T03:26:16.149937Z",
          "iopub.execute_input": "2023-12-07T03:26:16.150401Z",
          "iopub.status.idle": "2023-12-07T03:26:16.163286Z",
          "shell.execute_reply.started": "2023-12-07T03:26:16.150361Z",
          "shell.execute_reply": "2023-12-07T03:26:16.161718Z"
        },
        "trusted": true,
        "id": "sz5aa8DlM8no"
      },
      "execution_count": null,
      "outputs": []
    },
    {
      "cell_type": "markdown",
      "source": [
        "# ******Model**"
      ],
      "metadata": {
        "id": "y_AJhwdFM8no"
      }
    },
    {
      "cell_type": "code",
      "source": [
        "# Building model using sequential API\n",
        "\n",
        "model = Sequential()\n",
        "model.add(Embedding(input_dim=len(tk.word_index)+1,output_dim=100,input_length=50))\n",
        "model.add(Bidirectional(LSTM(units=100)))\n",
        "model.add(Dense(1,activation='sigmoid'))"
      ],
      "metadata": {
        "execution": {
          "iopub.status.busy": "2023-12-07T03:29:12.878415Z",
          "iopub.execute_input": "2023-12-07T03:29:12.879131Z",
          "iopub.status.idle": "2023-12-07T03:29:13.412729Z",
          "shell.execute_reply.started": "2023-12-07T03:29:12.879066Z",
          "shell.execute_reply": "2023-12-07T03:29:13.411681Z"
        },
        "trusted": true,
        "id": "-VF1XpXxM8no"
      },
      "execution_count": null,
      "outputs": []
    },
    {
      "cell_type": "code",
      "source": [
        "model.compile(optimizer='adam',loss='binary_crossentropy',metrics=['accuracy'])"
      ],
      "metadata": {
        "execution": {
          "iopub.status.busy": "2023-12-07T03:29:14.653118Z",
          "iopub.execute_input": "2023-12-07T03:29:14.653489Z",
          "iopub.status.idle": "2023-12-07T03:29:14.665594Z",
          "shell.execute_reply.started": "2023-12-07T03:29:14.653459Z",
          "shell.execute_reply": "2023-12-07T03:29:14.664981Z"
        },
        "trusted": true,
        "id": "I6oTay0wM8np"
      },
      "execution_count": null,
      "outputs": []
    },
    {
      "cell_type": "code",
      "source": [
        "history = model.fit(x_train,y_train,epochs=2,batch_size=32,validation_data=(x_test,y_test))"
      ],
      "metadata": {
        "execution": {
          "iopub.status.busy": "2023-12-07T03:29:19.451765Z",
          "iopub.execute_input": "2023-12-07T03:29:19.452141Z",
          "iopub.status.idle": "2023-12-07T03:32:44.313607Z",
          "shell.execute_reply.started": "2023-12-07T03:29:19.45211Z",
          "shell.execute_reply": "2023-12-07T03:32:44.312892Z"
        },
        "trusted": true,
        "id": "u63E0n1eM8np"
      },
      "execution_count": null,
      "outputs": []
    },
    {
      "cell_type": "code",
      "source": [
        "pd.DataFrame(history.history).plot()"
      ],
      "metadata": {
        "execution": {
          "iopub.status.busy": "2023-12-07T03:47:09.219131Z",
          "iopub.execute_input": "2023-12-07T03:47:09.219475Z",
          "iopub.status.idle": "2023-12-07T03:47:09.468876Z",
          "shell.execute_reply.started": "2023-12-07T03:47:09.219444Z",
          "shell.execute_reply": "2023-12-07T03:47:09.467972Z"
        },
        "trusted": true,
        "id": "4B8enbNnM8nq"
      },
      "execution_count": null,
      "outputs": []
    },
    {
      "cell_type": "code",
      "source": [
        "#Evaluate the result\n",
        "model.evaluate(x_test,y_test)"
      ],
      "metadata": {
        "execution": {
          "iopub.status.busy": "2023-12-07T03:32:47.546755Z",
          "iopub.execute_input": "2023-12-07T03:32:47.547195Z",
          "iopub.status.idle": "2023-12-07T03:32:48.697992Z",
          "shell.execute_reply.started": "2023-12-07T03:32:47.547164Z",
          "shell.execute_reply": "2023-12-07T03:32:48.69733Z"
        },
        "trusted": true,
        "id": "SmPGxyG-M8nq"
      },
      "execution_count": null,
      "outputs": []
    },
    {
      "cell_type": "code",
      "source": [
        "#prediction\n",
        "\n",
        "y_pred_prob = model.predict(x_test)\n",
        "y_pred = (y_pred_prob > 0.5).astype(int)"
      ],
      "metadata": {
        "execution": {
          "iopub.status.busy": "2023-12-07T03:33:45.505781Z",
          "iopub.execute_input": "2023-12-07T03:33:45.506189Z",
          "iopub.status.idle": "2023-12-07T03:33:46.620663Z",
          "shell.execute_reply.started": "2023-12-07T03:33:45.506156Z",
          "shell.execute_reply": "2023-12-07T03:33:46.61944Z"
        },
        "trusted": true,
        "id": "fNqjxY8-M8nr"
      },
      "execution_count": null,
      "outputs": []
    },
    {
      "cell_type": "markdown",
      "source": [
        "# **Metrics**"
      ],
      "metadata": {
        "id": "htOKbpa0M8nr"
      }
    },
    {
      "cell_type": "code",
      "source": [
        "#Measure confustion matrix\n",
        "from sklearn.metrics import confusion_matrix,ConfusionMatrixDisplay,f1_score,accuracy_score,precision_score\n",
        "cnf = confusion_matrix(y_test,y_pred)"
      ],
      "metadata": {
        "execution": {
          "iopub.status.busy": "2023-12-07T03:49:55.903739Z",
          "iopub.execute_input": "2023-12-07T03:49:55.904155Z",
          "iopub.status.idle": "2023-12-07T03:49:55.910878Z",
          "shell.execute_reply.started": "2023-12-07T03:49:55.904125Z",
          "shell.execute_reply": "2023-12-07T03:49:55.910142Z"
        },
        "trusted": true,
        "id": "xMBmvYCHM8ns"
      },
      "execution_count": null,
      "outputs": []
    },
    {
      "cell_type": "code",
      "source": [
        "ax= ConfusionMatrixDisplay(cnf,display_labels=['Not fake','fake']).plot()"
      ],
      "metadata": {
        "execution": {
          "iopub.status.busy": "2023-12-07T03:50:22.975901Z",
          "iopub.execute_input": "2023-12-07T03:50:22.976323Z",
          "iopub.status.idle": "2023-12-07T03:50:23.194551Z",
          "shell.execute_reply.started": "2023-12-07T03:50:22.976237Z",
          "shell.execute_reply": "2023-12-07T03:50:23.193161Z"
        },
        "trusted": true,
        "id": "pbZ4ZAGVM8ns"
      },
      "execution_count": null,
      "outputs": []
    }
  ]
}